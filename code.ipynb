{
 "cells": [
  {
   "cell_type": "code",
   "execution_count": 1,
   "metadata": {
    "collapsed": true
   },
   "outputs": [],
   "source": [
    "import numpy as np         # dealing with arrays\n",
    "import os                  # dealing with directories\n",
    "from random import shuffle # mixing up or currently ordered data that might lead our network astray in training.\n",
    "from tqdm import tqdm\n",
    "import cv2"
   ]
  },
  {
   "cell_type": "code",
   "execution_count": 2,
   "metadata": {
    "collapsed": true
   },
   "outputs": [],
   "source": [
    "TRAIN_DIR = 'train'\n",
    "TEST_DIR = 'test1'\n",
    "IMG_SIZE = 50\n",
    "LR = 1e-3\n",
    "MODEL_NAME = 'dogsvscats-{}-{}.model'.format(LR, '2conv-basic') # just so we remember which saved model is which, sizes must match"
   ]
  },
  {
   "cell_type": "code",
   "execution_count": 3,
   "metadata": {
    "collapsed": true
   },
   "outputs": [],
   "source": [
    "def label_img(img):\n",
    "    word_label = img.split('.')[-3]\n",
    "    # conversion to one-hot array [cat,dog]\n",
    "    #                            [much cat, no dog]\n",
    "    if word_label == 'cat': return [1,0]\n",
    "    #                             [no cat, very doggo]\n",
    "    elif word_label == 'dog': return [0,1]"
   ]
  },
  {
   "cell_type": "code",
   "execution_count": 4,
   "metadata": {
    "collapsed": true
   },
   "outputs": [],
   "source": [
    "def create_train_data():\n",
    "    training_data = []\n",
    "    for img in tqdm(os.listdir(TRAIN_DIR)):\n",
    "        label = label_img(img)\n",
    "        path = os.path.join(TRAIN_DIR,img)\n",
    "        img = cv2.imread(path,cv2.IMREAD_GRAYSCALE)\n",
    "        img = cv2.resize(img, (IMG_SIZE,IMG_SIZE))\n",
    "        training_data.append([np.array(img),np.array(label)])\n",
    "    shuffle(training_data)\n",
    "    np.save('train_data.npy', training_data)\n",
    "    return training_data"
   ]
  },
  {
   "cell_type": "code",
   "execution_count": 5,
   "metadata": {
    "collapsed": true
   },
   "outputs": [],
   "source": [
    "def process_test_data():\n",
    "    testing_data = []\n",
    "    for img in tqdm(os.listdir(TEST_DIR)):\n",
    "        path = os.path.join(TEST_DIR,img)\n",
    "        img_num = img.split('.')[0]\n",
    "        img = cv2.imread(path,cv2.IMREAD_GRAYSCALE)\n",
    "        img = cv2.resize(img, (IMG_SIZE,IMG_SIZE))\n",
    "        testing_data.append([np.array(img), img_num])\n",
    "        \n",
    "    shuffle(testing_data)\n",
    "    np.save('test_data.npy', testing_data)\n",
    "    return testing_data"
   ]
  },
  {
   "cell_type": "code",
   "execution_count": 6,
   "metadata": {},
   "outputs": [],
   "source": [
    "train_data = np.load('train_data.npy')"
   ]
  },
  {
   "cell_type": "code",
   "execution_count": 7,
   "metadata": {
    "collapsed": true
   },
   "outputs": [],
   "source": [
    "test_data = np.load('test_data.npy')"
   ]
  },
  {
   "cell_type": "code",
   "execution_count": 8,
   "metadata": {},
   "outputs": [
    {
     "data": {
      "text/plain": [
       "(50, 50)"
      ]
     },
     "execution_count": 8,
     "metadata": {},
     "output_type": "execute_result"
    }
   ],
   "source": [
    "p = train_data[0][0]\n",
    "p = np.array(p)\n",
    "p.shape"
   ]
  },
  {
   "cell_type": "code",
   "execution_count": 9,
   "metadata": {},
   "outputs": [
    {
     "data": {
      "text/plain": [
       "(50, 50)"
      ]
     },
     "execution_count": 9,
     "metadata": {},
     "output_type": "execute_result"
    }
   ],
   "source": [
    "q = test_data[0][0]\n",
    "q = np.array(q)\n",
    "q.shape"
   ]
  },
  {
   "cell_type": "code",
   "execution_count": 10,
   "metadata": {},
   "outputs": [
    {
     "data": {
      "text/plain": [
       "(25000, 2)"
      ]
     },
     "execution_count": 10,
     "metadata": {},
     "output_type": "execute_result"
    }
   ],
   "source": [
    "train = np.array(train_data)\n",
    "train.shape"
   ]
  },
  {
   "cell_type": "code",
   "execution_count": 11,
   "metadata": {},
   "outputs": [
    {
     "data": {
      "text/plain": [
       "(12500, 2)"
      ]
     },
     "execution_count": 11,
     "metadata": {},
     "output_type": "execute_result"
    }
   ],
   "source": [
    "test = np.array(test_data)\n",
    "test.shape"
   ]
  },
  {
   "cell_type": "code",
   "execution_count": 12,
   "metadata": {},
   "outputs": [
    {
     "name": "stderr",
     "output_type": "stream",
     "text": [
      "Using TensorFlow backend.\n"
     ]
    }
   ],
   "source": [
    "import numpy\n",
    "from keras.datasets import cifar10\n",
    "from keras.models import Sequential\n",
    "from keras.layers import Dense\n",
    "from keras.layers import Dropout\n",
    "from keras.layers import Flatten\n",
    "from keras.constraints import maxnorm\n",
    "from keras.optimizers import SGD\n",
    "from keras.layers.convolutional import Conv2D\n",
    "from keras.layers.convolutional import MaxPooling2D\n",
    "from keras.utils import np_utils\n",
    "from keras import backend as K\n",
    "K.set_image_dim_ordering('th')"
   ]
  },
  {
   "cell_type": "code",
   "execution_count": 13,
   "metadata": {
    "collapsed": true
   },
   "outputs": [],
   "source": [
    "seed = 7\n",
    "numpy.random.seed(seed)"
   ]
  },
  {
   "cell_type": "code",
   "execution_count": 14,
   "metadata": {},
   "outputs": [
    {
     "data": {
      "text/plain": [
       "array([ array([[ 76,  48, 141, ...,  83,  82,  92],\n",
       "       [139, 122,  77, ...,  86, 141,  82],\n",
       "       [137, 143, 142, ...,  94,  92,  83],\n",
       "       ..., \n",
       "       [ 98,  96,  91, ..., 104, 106, 105],\n",
       "       [102, 100,  95, ...,  96, 110, 103],\n",
       "       [ 96,  97,  95, ...,  99, 105, 100]], dtype=uint8),\n",
       "       array([[ 69,  85,  75, ..., 126, 118, 121],\n",
       "       [ 69,  86,  87, ..., 132, 120, 128],\n",
       "       [ 67,  82,  86, ..., 115, 130, 137],\n",
       "       ..., \n",
       "       [184, 172, 128, ...,  99, 112, 153],\n",
       "       [103, 171, 154, ..., 109, 150, 139],\n",
       "       [117,  73,  95, ..., 113, 131, 124]], dtype=uint8),\n",
       "       array([[179, 131, 156, ..., 245, 242, 240],\n",
       "       [161, 177, 183, ..., 245, 245, 243],\n",
       "       [151,  90, 156, ..., 247, 247, 246],\n",
       "       ..., \n",
       "       [ 58,  57,  64, ..., 214, 217, 217],\n",
       "       [ 57,  64,  56, ..., 212, 216, 206],\n",
       "       [ 52,  59,  64, ..., 209, 207, 202]], dtype=uint8),\n",
       "       ...,\n",
       "       array([[ 64,  43,  44, ...,  55,  53,  36],\n",
       "       [111,  75,  45, ...,  48,  52,  34],\n",
       "       [126,  90,  86, ...,  53,  48,  37],\n",
       "       ..., \n",
       "       [139, 101, 132, ..., 143,  80, 114],\n",
       "       [102, 124,  86, ...,  89, 139,  66],\n",
       "       [116,  94, 179, ...,  85, 146,  68]], dtype=uint8),\n",
       "       array([[171, 167, 168, ...,  83, 137,  84],\n",
       "       [166, 166, 169, ...,  87, 121,  75],\n",
       "       [169, 165, 167, ...,  85, 113,  71],\n",
       "       ..., \n",
       "       [210, 206, 207, ..., 117, 133,  86],\n",
       "       [199, 203, 228, ..., 225, 229, 107],\n",
       "       [247, 246, 251, ..., 207, 214, 227]], dtype=uint8),\n",
       "       array([[167, 174, 181, ..., 160, 143, 130],\n",
       "       [167, 173, 181, ..., 162, 144, 133],\n",
       "       [167, 174, 181, ..., 164, 148, 133],\n",
       "       ..., \n",
       "       [148, 148, 113, ..., 122, 102, 110],\n",
       "       [145, 144, 130, ..., 120,  98, 109],\n",
       "       [146, 146, 141, ..., 117,  96, 112]], dtype=uint8)], dtype=object)"
      ]
     },
     "execution_count": 14,
     "metadata": {},
     "output_type": "execute_result"
    }
   ],
   "source": [
    "train_x = train[:,0]\n",
    "train_x"
   ]
  },
  {
   "cell_type": "code",
   "execution_count": 15,
   "metadata": {},
   "outputs": [
    {
     "data": {
      "text/plain": [
       "array([array([0, 1]), array([0, 1]), array([0, 1]), ..., array([0, 1]),\n",
       "       array([1, 0]), array([1, 0])], dtype=object)"
      ]
     },
     "execution_count": 15,
     "metadata": {},
     "output_type": "execute_result"
    }
   ],
   "source": [
    "check_y = train[:,1]\n",
    "check_y"
   ]
  },
  {
   "cell_type": "code",
   "execution_count": 16,
   "metadata": {},
   "outputs": [
    {
     "data": {
      "text/plain": [
       "25000"
      ]
     },
     "execution_count": 16,
     "metadata": {},
     "output_type": "execute_result"
    }
   ],
   "source": [
    "train_y = []\n",
    "for p in check_y:\n",
    "    if p[0]==1:\n",
    "        train_y.append(0)\n",
    "    else: \n",
    "        train_y.append(1)\n",
    "len(train_y)"
   ]
  },
  {
   "cell_type": "code",
   "execution_count": 17,
   "metadata": {},
   "outputs": [
    {
     "data": {
      "text/plain": [
       "(25000,)"
      ]
     },
     "execution_count": 17,
     "metadata": {},
     "output_type": "execute_result"
    }
   ],
   "source": [
    "train_y  = np.array(train_y)\n",
    "train_y.shape"
   ]
  },
  {
   "cell_type": "code",
   "execution_count": 18,
   "metadata": {},
   "outputs": [
    {
     "data": {
      "text/plain": [
       "(25000,)"
      ]
     },
     "execution_count": 18,
     "metadata": {},
     "output_type": "execute_result"
    }
   ],
   "source": [
    "train_x.shape"
   ]
  },
  {
   "cell_type": "code",
   "execution_count": 19,
   "metadata": {},
   "outputs": [
    {
     "name": "stdout",
     "output_type": "stream",
     "text": [
      "(20000,) (5000,)\n"
     ]
    }
   ],
   "source": [
    "X_train = train_x[:20000]\n",
    "X_test = train_x[20000:]\n",
    "print X_train.shape,X_test.shape"
   ]
  },
  {
   "cell_type": "code",
   "execution_count": 20,
   "metadata": {},
   "outputs": [
    {
     "name": "stdout",
     "output_type": "stream",
     "text": [
      "(20000,) (5000,)\n"
     ]
    }
   ],
   "source": [
    "Y_train = train_y[:20000]\n",
    "Y_test = train_y[20000:]\n",
    "print Y_train.shape,Y_test.shape"
   ]
  },
  {
   "cell_type": "code",
   "execution_count": 21,
   "metadata": {
    "collapsed": true
   },
   "outputs": [],
   "source": [
    "X_train = X_train / 255.0\n",
    "X_test = X_test / 255.0"
   ]
  },
  {
   "cell_type": "code",
   "execution_count": 22,
   "metadata": {},
   "outputs": [
    {
     "data": {
      "text/plain": [
       "array([ array([[ 0.29803922,  0.18823529,  0.55294118, ...,  0.3254902 ,\n",
       "         0.32156863,  0.36078431],\n",
       "       [ 0.54509804,  0.47843137,  0.30196078, ...,  0.3372549 ,\n",
       "         0.55294118,  0.32156863],\n",
       "       [ 0.5372549 ,  0.56078431,  0.55686275, ...,  0.36862745,\n",
       "         0.36078431,  0.3254902 ],\n",
       "       ..., \n",
       "       [ 0.38431373,  0.37647059,  0.35686275, ...,  0.40784314,\n",
       "         0.41568627,  0.41176471],\n",
       "       [ 0.4       ,  0.39215686,  0.37254902, ...,  0.37647059,\n",
       "         0.43137255,  0.40392157],\n",
       "       [ 0.37647059,  0.38039216,  0.37254902, ...,  0.38823529,\n",
       "         0.41176471,  0.39215686]]),\n",
       "       array([[ 0.27058824,  0.33333333,  0.29411765, ...,  0.49411765,\n",
       "         0.4627451 ,  0.4745098 ],\n",
       "       [ 0.27058824,  0.3372549 ,  0.34117647, ...,  0.51764706,\n",
       "         0.47058824,  0.50196078],\n",
       "       [ 0.2627451 ,  0.32156863,  0.3372549 , ...,  0.45098039,\n",
       "         0.50980392,  0.5372549 ],\n",
       "       ..., \n",
       "       [ 0.72156863,  0.6745098 ,  0.50196078, ...,  0.38823529,\n",
       "         0.43921569,  0.6       ],\n",
       "       [ 0.40392157,  0.67058824,  0.60392157, ...,  0.42745098,\n",
       "         0.58823529,  0.54509804],\n",
       "       [ 0.45882353,  0.28627451,  0.37254902, ...,  0.44313725,\n",
       "         0.51372549,  0.48627451]]),\n",
       "       array([[ 0.70196078,  0.51372549,  0.61176471, ...,  0.96078431,\n",
       "         0.94901961,  0.94117647],\n",
       "       [ 0.63137255,  0.69411765,  0.71764706, ...,  0.96078431,\n",
       "         0.96078431,  0.95294118],\n",
       "       [ 0.59215686,  0.35294118,  0.61176471, ...,  0.96862745,\n",
       "         0.96862745,  0.96470588],\n",
       "       ..., \n",
       "       [ 0.22745098,  0.22352941,  0.25098039, ...,  0.83921569,\n",
       "         0.85098039,  0.85098039],\n",
       "       [ 0.22352941,  0.25098039,  0.21960784, ...,  0.83137255,\n",
       "         0.84705882,  0.80784314],\n",
       "       [ 0.20392157,  0.23137255,  0.25098039, ...,  0.81960784,\n",
       "         0.81176471,  0.79215686]]),\n",
       "       ...,\n",
       "       array([[ 0.67058824,  0.70980392,  0.69411765, ...,  0.14117647,\n",
       "         0.16470588,  0.14509804],\n",
       "       [ 0.72156863,  0.71372549,  0.65098039, ...,  0.6745098 ,\n",
       "         0.6745098 ,  0.68235294],\n",
       "       [ 0.70196078,  0.70980392,  0.58823529, ...,  0.69019608,\n",
       "         0.68235294,  0.67843137],\n",
       "       ..., \n",
       "       [ 0.42745098,  0.21568627,  0.5254902 , ...,  0.14117647,\n",
       "         0.14117647,  0.09411765],\n",
       "       [ 0.39215686,  0.19215686,  0.5372549 , ...,  0.06666667,\n",
       "         0.09019608,  0.09803922],\n",
       "       [ 0.41960784,  0.41176471,  0.5372549 , ...,  0.0745098 ,\n",
       "         0.10588235,  0.10588235]]),\n",
       "       array([[ 0.17254902,  0.29803922,  0.4627451 , ...,  0.25882353,\n",
       "         0.23921569,  0.17647059],\n",
       "       [ 0.15294118,  0.19607843,  0.57254902, ...,  0.19215686,\n",
       "         0.21568627,  0.19607843],\n",
       "       [ 0.15686275,  0.15294118,  0.46666667, ...,  0.2       ,\n",
       "         0.2627451 ,  0.2745098 ],\n",
       "       ..., \n",
       "       [ 0.15686275,  0.62745098,  0.66666667, ...,  0.28627451,\n",
       "         0.28235294,  0.20392157],\n",
       "       [ 0.15686275,  0.62352941,  0.62745098, ...,  0.2       ,\n",
       "         0.20392157,  0.19607843],\n",
       "       [ 0.16078431,  0.69803922,  0.62352941, ...,  0.27843137,\n",
       "         0.30196078,  0.22745098]]),\n",
       "       array([[ 0.22352941,  0.22745098,  0.23137255, ...,  1.        ,\n",
       "         1.        ,  1.        ],\n",
       "       [ 0.22745098,  0.23529412,  0.23529412, ...,  1.        ,\n",
       "         1.        ,  1.        ],\n",
       "       [ 0.23137255,  0.22745098,  0.22745098, ...,  1.        ,\n",
       "         1.        ,  1.        ],\n",
       "       ..., \n",
       "       [ 0.63529412,  0.65098039,  0.69411765, ...,  0.68235294,\n",
       "         0.64313725,  0.65098039],\n",
       "       [ 0.6627451 ,  0.6745098 ,  0.63137255, ...,  0.70588235,\n",
       "         0.60784314,  0.6745098 ],\n",
       "       [ 0.66666667,  0.64705882,  0.61960784, ...,  0.72156863,\n",
       "         0.63529412,  0.64313725]])], dtype=object)"
      ]
     },
     "execution_count": 22,
     "metadata": {},
     "output_type": "execute_result"
    }
   ],
   "source": [
    "X_train"
   ]
  },
  {
   "cell_type": "code",
   "execution_count": 23,
   "metadata": {},
   "outputs": [
    {
     "data": {
      "text/plain": [
       "2"
      ]
     },
     "execution_count": 23,
     "metadata": {},
     "output_type": "execute_result"
    }
   ],
   "source": [
    "Y_train = np_utils.to_categorical(Y_train)\n",
    "Y_test = np_utils.to_categorical(Y_test)\n",
    "num_classes = Y_test.shape[1]\n",
    "num_classes"
   ]
  },
  {
   "cell_type": "code",
   "execution_count": 24,
   "metadata": {},
   "outputs": [
    {
     "data": {
      "text/plain": [
       "(20000, 50, 50)"
      ]
     },
     "execution_count": 24,
     "metadata": {},
     "output_type": "execute_result"
    }
   ],
   "source": [
    "train_X = []\n",
    "for t in X_train:\n",
    "    train_X.append(t)\n",
    "train_X = np.array(train_X)\n",
    "train_X.shape"
   ]
  },
  {
   "cell_type": "code",
   "execution_count": 25,
   "metadata": {},
   "outputs": [
    {
     "data": {
      "text/plain": [
       "(20000, 50, 50, 1)"
      ]
     },
     "execution_count": 25,
     "metadata": {},
     "output_type": "execute_result"
    }
   ],
   "source": [
    "train_X = train_X.reshape(-1,50,50,1)\n",
    "train_X.shape"
   ]
  },
  {
   "cell_type": "code",
   "execution_count": 26,
   "metadata": {},
   "outputs": [
    {
     "data": {
      "text/plain": [
       "(5000, 50, 50)"
      ]
     },
     "execution_count": 26,
     "metadata": {},
     "output_type": "execute_result"
    }
   ],
   "source": [
    "test_X = []\n",
    "for t in X_test:\n",
    "    test_X.append(t)\n",
    "test_X = np.array(test_X)\n",
    "test_X.shape"
   ]
  },
  {
   "cell_type": "code",
   "execution_count": 27,
   "metadata": {},
   "outputs": [
    {
     "data": {
      "text/plain": [
       "(5000, 50, 50, 1)"
      ]
     },
     "execution_count": 27,
     "metadata": {},
     "output_type": "execute_result"
    }
   ],
   "source": [
    "test_X = test_X.reshape(-1,50,50,1)\n",
    "test_X.shape"
   ]
  },
  {
   "cell_type": "code",
   "execution_count": 28,
   "metadata": {},
   "outputs": [
    {
     "data": {
      "text/plain": [
       "(20000, 2)"
      ]
     },
     "execution_count": 28,
     "metadata": {},
     "output_type": "execute_result"
    }
   ],
   "source": [
    "Y_train.shape"
   ]
  },
  {
   "cell_type": "code",
   "execution_count": 29,
   "metadata": {},
   "outputs": [
    {
     "data": {
      "text/plain": [
       "(5000, 2)"
      ]
     },
     "execution_count": 29,
     "metadata": {},
     "output_type": "execute_result"
    }
   ],
   "source": [
    "Y_test.shape"
   ]
  },
  {
   "cell_type": "code",
   "execution_count": 30,
   "metadata": {},
   "outputs": [
    {
     "name": "stdout",
     "output_type": "stream",
     "text": [
      "Training Step: 1148  | total loss: \u001b[1m\u001b[32m0.45854\u001b[0m\u001b[0m | time: 134.430s\n",
      "| Adam | epoch: 003 | loss: 0.45854 - acc: 0.8038 -- iter: 24448/24500\n",
      "Training Step: 1149  | total loss: \u001b[1m\u001b[32m0.46370\u001b[0m\u001b[0m | time: 135.764s\n",
      "| Adam | epoch: 003 | loss: 0.46370 - acc: 0.8031 | val_loss: 0.55092 - val_acc: 0.7400 -- iter: 24500/24500\n",
      "--\n"
     ]
    }
   ],
   "source": [
    "import tensorflow as tf\n",
    "import tflearn\n",
    "from tflearn.layers.conv import conv_2d, max_pool_2d\n",
    "from tflearn.layers.core import input_data, dropout, fully_connected\n",
    "from tflearn.layers.estimator import regression\n",
    "tf.reset_default_graph()\n",
    "convnet = input_data(shape=[None, IMG_SIZE, IMG_SIZE, 1], name='input')\n",
    "\n",
    "convnet = conv_2d(convnet, 32, 5, activation='relu')\n",
    "convnet = max_pool_2d(convnet, 5)\n",
    "\n",
    "convnet = conv_2d(convnet, 64, 5, activation='relu')\n",
    "convnet = max_pool_2d(convnet, 5)\n",
    "\n",
    "convnet = conv_2d(convnet, 128, 5, activation='relu')\n",
    "convnet = max_pool_2d(convnet, 5)\n",
    "\n",
    "convnet = conv_2d(convnet, 64, 5, activation='relu')\n",
    "convnet = max_pool_2d(convnet, 5)\n",
    "\n",
    "convnet = conv_2d(convnet, 32, 5, activation='relu')\n",
    "convnet = max_pool_2d(convnet, 5)\n",
    "\n",
    "convnet = fully_connected(convnet, 1024, activation='relu')\n",
    "convnet = dropout(convnet, 0.8)\n",
    "\n",
    "convnet = fully_connected(convnet, 2, activation='softmax')\n",
    "convnet = regression(convnet, optimizer='adam', learning_rate=LR, loss='categorical_crossentropy', name='targets')\n",
    "\n",
    "model = tflearn.DNN(convnet, tensorboard_dir='log')\n",
    "\n",
    "\n",
    "\n",
    "if os.path.exists('{}.meta'.format(MODEL_NAME)):\n",
    "    model.load(MODEL_NAME)\n",
    "    print('model loaded!')\n",
    "\n",
    "train = train_data[:-500]\n",
    "test = train_data[-500:]\n",
    "\n",
    "X = np.array([i[0] for i in train]).reshape(-1,IMG_SIZE,IMG_SIZE,1)\n",
    "Y = [i[1] for i in train]\n",
    "\n",
    "test_x = np.array([i[0] for i in test]).reshape(-1,IMG_SIZE,IMG_SIZE,1)\n",
    "test_y = [i[1] for i in test]\n",
    "\n",
    "model.fit({'input': X}, {'targets': Y}, n_epoch=3, validation_set=({'input': test_x}, {'targets': test_y}), \n",
    "    snapshot_step=500, show_metric=True, run_id=MODEL_NAME)"
   ]
  },
  {
   "cell_type": "code",
   "execution_count": 31,
   "metadata": {},
   "outputs": [
    {
     "name": "stdout",
     "output_type": "stream",
     "text": [
      "INFO:tensorflow:/home/shivam/Desktop/machine_learning/cnn/dogs-vs-cats/dogsvscats-0.001-2conv-basic.model is not in all_model_checkpoint_paths. Manually adding it.\n"
     ]
    }
   ],
   "source": [
    "model.save(MODEL_NAME)"
   ]
  },
  {
   "cell_type": "code",
   "execution_count": 39,
   "metadata": {},
   "outputs": [
    {
     "data": {
      "image/png": "[encoded data removed]",
      "text/plain": [
       "<matplotlib.figure.Figure at 0x7fe4c3820b10>"
      ]
     },
     "metadata": {},
     "output_type": "display_data"
    }
   ],
   "source": [
    "import matplotlib.pyplot as plt\n",
    "\n",
    "# if you need to create the data:\n",
    "#test_data = process_test_data()\n",
    "# if you already have some saved:\n",
    "test_data = np.load('test_data.npy')\n",
    "\n",
    "fig=plt.figure()\n",
    "\n",
    "for num,data in enumerate(test_data[:12]):\n",
    "    # cat: [1,0]\n",
    "    # dog: [0,1]\n",
    "    \n",
    "    img_num = data[1]\n",
    "    img_data = data[0]\n",
    "    y = fig.add_subplot(3,4,num+1)\n",
    "    orig = img_data\n",
    "    data = img_data.reshape(IMG_SIZE,IMG_SIZE,1)\n",
    "    #model_out = model.predict([data])[0]\n",
    "    model_out = model.predict([data])[0]\n",
    "    #print model_out\n",
    "    if np.argmax(model_out) == 1: str_label='Dog'\n",
    "    else: str_label='Cat'\n",
    "        \n",
    "    y.imshow(orig,cmap='gray')\n",
    "    plt.title(str_label)\n",
    "    y.axes.get_xaxis().set_visible(False)\n",
    "    y.axes.get_yaxis().set_visible(False)\n",
    "plt.show()"
   ]
  },
  {
   "cell_type": "code",
   "execution_count": 40,
   "metadata": {},
   "outputs": [
    {
     "name": "stderr",
     "output_type": "stream",
     "text": [
      "100%|██████████| 12500/12500 [00:55<00:00, 223.28it/s]\n"
     ]
    }
   ],
   "source": [
    "with open('submission_file.csv','w') as f:\n",
    "    f.write('id,label\\n')\n",
    "            \n",
    "with open('submission_file.csv','a') as f:\n",
    "    for data in tqdm(test_data):\n",
    "        img_num = data[1]\n",
    "        img_data = data[0]\n",
    "        orig = img_data\n",
    "        data = img_data.reshape(IMG_SIZE,IMG_SIZE,1)\n",
    "        model_out = model.predict([data])[0]\n",
    "        f.write('{},{}\\n'.format(img_num,model_out[1]))"
   ]
  }
 ],
 "metadata": {
  "kernelspec": {
   "display_name": "Python 2",
   "language": "python",
   "name": "python2"
  },
  "language_info": {
   "codemirror_mode": {
    "name": "ipython",
    "version": 2
   },
   "file_extension": ".py",
   "mimetype": "text/x-python",
   "name": "python",
   "nbconvert_exporter": "python",
   "pygments_lexer": "ipython2",
   "version": "2.7.6"
  }
 },
 "nbformat": 4,
 "nbformat_minor": 2
}
